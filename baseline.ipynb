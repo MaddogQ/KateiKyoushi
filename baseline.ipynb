{
 "cells": [
  {
   "cell_type": "markdown",
   "metadata": {},
   "source": [
    "# KateiKyoushi\n"
   ]
  },
  {
   "cell_type": "markdown",
   "metadata": {},
   "source": [
    "## TODOs in Future Version:\n",
    "\n",
    "1. Use the study plan and course outline to generate questions.\n",
    "2. The questions will be multiple choice questions that check the understanding of a concept/topic.\n",
    "3. If answered correctly, continue to next question (next topic); if answered incorrectly, explain why the choice selected was wrong.\n",
    "4. Error analysis on questions and devise a review plan.\n"
   ]
  },
  {
   "cell_type": "markdown",
   "metadata": {},
   "source": [
    "# Imports\n"
   ]
  },
  {
   "cell_type": "code",
   "execution_count": 1,
   "metadata": {},
   "outputs": [],
   "source": [
    "from nltk.tokenize import word_tokenize\n",
    "from nltk.corpus import stopwords\n",
    "from nltk.stem import WordNetLemmatizer\n",
    "\n",
    "import nltk\n",
    "import json\n",
    "from collections import Counter\n",
    "from pathlib import Path\n",
    "from PyPDF2 import PdfReader"
   ]
  },
  {
   "cell_type": "code",
   "execution_count": 2,
   "metadata": {},
   "outputs": [],
   "source": [
    "from openai import OpenAI\n",
    "\n",
    "client = OpenAI()"
   ]
  },
  {
   "cell_type": "code",
   "execution_count": 3,
   "metadata": {},
   "outputs": [],
   "source": [
    "# If first time, uncomment below lines\n",
    "\n",
    "# nltk.download(\"punkt\")\n",
    "# nltk.download(\"wordnet\")\n",
    "# nltk.download(\"stopwords\")"
   ]
  },
  {
   "cell_type": "markdown",
   "metadata": {},
   "source": [
    "# Utils\n"
   ]
  },
  {
   "cell_type": "code",
   "execution_count": 4,
   "metadata": {},
   "outputs": [],
   "source": [
    "def create_file(file_name, text):\n",
    "    \"\"\"Create a local file\"\"\"\n",
    "    with open(file_name, \"w+\") as f:\n",
    "        f.write(text)"
   ]
  },
  {
   "cell_type": "code",
   "execution_count": 5,
   "metadata": {},
   "outputs": [],
   "source": [
    "class PDFParser:\n",
    "    \"\"\"Class to handle single PDF file\"\"\"\n",
    "\n",
    "    def __init__(self, path) -> None:\n",
    "        self.path = path\n",
    "        self.text = self.parse_text()\n",
    "\n",
    "    def parse_text(self):\n",
    "        \"\"\"Return text in pdf file\"\"\"\n",
    "        pdf_reader = PdfReader(self.path)\n",
    "        text = \"\"\n",
    "        for page in pdf_reader.pages:\n",
    "            text += page.extract_text()\n",
    "        return text\n",
    "\n",
    "    def get_keywords(self, num):\n",
    "        \"\"\"Get top-K frequent words as keywords\"\"\"\n",
    "        keywords = []\n",
    "        words = word_tokenize(self.text)\n",
    "\n",
    "        # Remove punctuation\n",
    "        words = [word for word in words if word.isalnum()]\n",
    "\n",
    "        # Remove stopwords\n",
    "        stop_words = set(stopwords.words(\"english\"))\n",
    "        words = [word for word in words if not word.lower() in stop_words]\n",
    "\n",
    "        # Lemmatization\n",
    "        lemmatizer = WordNetLemmatizer()\n",
    "        words = [lemmatizer.lemmatize(word) for word in words]\n",
    "\n",
    "        # Get top-K most common words\n",
    "        word_freq = Counter(words)\n",
    "        keywords = word_freq.most_common(num)\n",
    "\n",
    "        str_keywords = \", \".join([w[0] for w in keywords])\n",
    "\n",
    "        return f\"Top-{num} keywords: {str_keywords}\""
   ]
  },
  {
   "cell_type": "markdown",
   "metadata": {},
   "source": [
    "# Prompt Engineering\n"
   ]
  },
  {
   "cell_type": "code",
   "execution_count": 7,
   "metadata": {},
   "outputs": [],
   "source": [
    "def get_response(prompt, model=\"gpt-3.5-turbo\"):\n",
    "    completion = client.chat.completions.create(\n",
    "        model=model,\n",
    "        messages=[\n",
    "            {\n",
    "                \"role\": \"system\",\n",
    "                \"content\": f\"\"\"You are a highly skilled instructor, skilled at\n",
    "                            creating course outlines and study plans from\n",
    "                            summarized materials.\"\"\",\n",
    "            },\n",
    "            {\n",
    "                \"role\": \"user\",\n",
    "                \"content\": prompt,\n",
    "            },\n",
    "        ],\n",
    "    )\n",
    "    return completion.choices[0].message.content"
   ]
  },
  {
   "cell_type": "code",
   "execution_count": 8,
   "metadata": {},
   "outputs": [],
   "source": [
    "def prompt_course_outline(content, keywords):\n",
    "    context = f\"\"\"You are tasked with creating a structured course outline from\n",
    "               given materials based on provided keywords.\"\"\"\n",
    "\n",
    "    context += f\"\"\"Keywords: {keywords}\"\"\"\n",
    "    context += f\"\"\"Materials: {content}\"\"\"\n",
    "\n",
    "    context += f\"\"\"\n",
    "    Output Requirement: Generate a course outline formatted in Markdown, strictly adhering to the example format provided below.\n",
    "    Each lesson should include a lesson name (lesson_name) and a concise description (lesson_abstract).\n",
    "    Use different levels of headings, bold and italic format to highlight important topics.\n",
    "\n",
    "    Example Format:\n",
    "    # lesson_name\n",
    "    lesson_abstract\n",
    "    \n",
    "    ## important topic 1\n",
    "    - important topic 1 breakdown\n",
    "    explanation of the topic\n",
    "    \n",
    "    ### key concept explanation\n",
    "    explanation of the concept\n",
    "    \n",
    "    ## important topic 2\n",
    "    explanation of the topic\n",
    "    \n",
    "    ### important topic 2 breakdown\n",
    "    - important topic 2 breakdown\n",
    "    explanation of the topic\n",
    "    ...\n",
    "\n",
    "    Begin designing the course now.\"\"\"\n",
    "\n",
    "    return context"
   ]
  },
  {
   "cell_type": "code",
   "execution_count": 9,
   "metadata": {},
   "outputs": [],
   "source": [
    "def generate_questions(content):\n",
    "    context = f\"\"\"\n",
    "    Use provided Course Outline, refine and elaborate on each topic. \n",
    "    Output your response combining the given Course Outline and your generated content.\n",
    "    \"\"\"\n",
    "\n",
    "    context += f\"\"\"Materials: {content}\"\"\"\n",
    "\n",
    "    return context"
   ]
  },
  {
   "cell_type": "code",
   "execution_count": 10,
   "metadata": {},
   "outputs": [],
   "source": [
    "def prompt_study_plan(outline, time):\n",
    "    context = f\"\"\"\n",
    "    Using the provided course outline, create a study plan within the specified time frame. \n",
    "    Detail the key topics and suggested study sessions per hours based on the material's structure and complexity. \n",
    "    Ensure the plan is tailored to your specific learning preferences and available study hours per week. \n",
    "    \"\"\"\n",
    "\n",
    "    context += f\"\"\"Course Outline: {outline}\"\"\"\n",
    "    context += f\"\"\"Time Frame: {time}\"\"\"\n",
    "\n",
    "    return context"
   ]
  },
  {
   "cell_type": "code",
   "execution_count": 11,
   "metadata": {},
   "outputs": [],
   "source": [
    "def prompt_elaborate(schedule):\n",
    "    context = f\"\"\"\n",
    "    Using the provided study plan, elaborate on each concept mentioned. \n",
    "    Include detailed explanations, relevant examples, and practical applications to ensure a comprehensive understanding of each topic. \n",
    "    This expanded content should assist in preparing for in-depth discussions, exams, or practical implementations related to the course material.\n",
    "    \"\"\"\n",
    "\n",
    "    context += f\"\"\"Study Plan: {schedule}\"\"\"\n",
    "\n",
    "    return context"
   ]
  },
  {
   "cell_type": "code",
   "execution_count": 12,
   "metadata": {},
   "outputs": [],
   "source": [
    "def prompt_feedback(schedule, feedback):\n",
    "    context = f\"\"\"\n",
    "    Based on the feedback provided, revise the existing study plan provided.\n",
    "    Consider incorporating suggestions for improved time management, resource allocation, and methodologies that better align with student needs.\n",
    "    Ensure the revised plan includes clear objectives, scheduled review times, and incorporates diverse learning materials to address various learning styles.\n",
    "    Include checkpoints for assessing progress and adjust the schedule to accommodate areas needing more focus.\n",
    "    \"\"\"\n",
    "\n",
    "    context += f\"\"\"Study Plan: {schedule}\"\"\"\n",
    "    context += f\"\"\"Feedback: {feedback}\"\"\"\n",
    "\n",
    "    return context"
   ]
  },
  {
   "cell_type": "markdown",
   "metadata": {},
   "source": [
    "# Test\n"
   ]
  },
  {
   "cell_type": "markdown",
   "metadata": {},
   "source": [
    "1. Read the file(s)\n",
    "2. Get K keywords to help summarize (default = 15)"
   ]
  },
  {
   "cell_type": "code",
   "execution_count": 13,
   "metadata": {},
   "outputs": [],
   "source": [
    "test = PDFParser(\"./slides/06-01.pdf\")\n",
    "keywords = test.get_keywords(15)"
   ]
  },
  {
   "cell_type": "markdown",
   "metadata": {},
   "source": [
    "## Functions"
   ]
  },
  {
   "cell_type": "markdown",
   "metadata": {},
   "source": [
    "Define parameters:\n",
    "\n",
    "    ``lm`` - the LM model to perform the task, default: \"gpt-3.5-turbo\"\n",
    "\n",
    "    ``time_frame`` - remaining time to carry out the study plan, default: \"1 week\""
   ]
  },
  {
   "cell_type": "code",
   "execution_count": 18,
   "metadata": {},
   "outputs": [],
   "source": [
    "lm = [\"gpt-3.5-turbo\", \"gpt-4\", \"gpt-4-turbo\"]\n",
    "time_frame = \"1 week\""
   ]
  },
  {
   "cell_type": "markdown",
   "metadata": {},
   "source": [
    "Begin by summarizing the course outline first.\n"
   ]
  },
  {
   "cell_type": "code",
   "execution_count": null,
   "metadata": {},
   "outputs": [],
   "source": [
    "response = get_response(prompt_course_outline(test.text, keywords))\n",
    "create_file(\"1-outline.md\", response)"
   ]
  },
  {
   "cell_type": "markdown",
   "metadata": {},
   "source": [
    "Devise a study plan within a given time frame.\n"
   ]
  },
  {
   "cell_type": "code",
   "execution_count": null,
   "metadata": {},
   "outputs": [],
   "source": [
    "schedule = get_response(prompt_study_plan(response, \"3 hours\"))\n",
    "create_file(\"2-schedule.md\", schedule)"
   ]
  },
  {
   "cell_type": "markdown",
   "metadata": {},
   "source": [
    "Option 1: Elaborate the current study plan to make it more comprehensive\n"
   ]
  },
  {
   "cell_type": "code",
   "execution_count": null,
   "metadata": {},
   "outputs": [],
   "source": [
    "response = get_response(prompt_elaborate(schedule))\n",
    "create_file(\"3-detailed.md\", response)"
   ]
  },
  {
   "cell_type": "markdown",
   "metadata": {},
   "source": [
    "Option 2: You can always give your feedback on the study plan to revise it\n"
   ]
  },
  {
   "cell_type": "code",
   "execution_count": 1,
   "metadata": {},
   "outputs": [],
   "source": [
    "# Give any feedback on the generated study plan\n",
    "# e.g. \"I've already learned topic A, B, skip those and elaborate on topic C.\"\n",
    "# More detailed prompt helps improve the quality of the revised study plan\n",
    "feedback = f\"\"\"\n",
    "[Your feedback]\n",
    "\"\"\""
   ]
  },
  {
   "cell_type": "code",
   "execution_count": null,
   "metadata": {},
   "outputs": [],
   "source": [
    "response = get_response(prompt_feedback(schedule, feedback))\n",
    "create_file(\"4-revised.md\", response)"
   ]
  }
 ],
 "metadata": {
  "kernelspec": {
   "display_name": "Python 3",
   "language": "python",
   "name": "python3"
  },
  "language_info": {
   "codemirror_mode": {
    "name": "ipython",
    "version": 3
   },
   "file_extension": ".py",
   "mimetype": "text/x-python",
   "name": "python",
   "nbconvert_exporter": "python",
   "pygments_lexer": "ipython3",
   "version": "3.9.18"
  }
 },
 "nbformat": 4,
 "nbformat_minor": 2
}
